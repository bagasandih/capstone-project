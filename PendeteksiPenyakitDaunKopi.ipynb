{
  "cells": [
    {
      "cell_type": "code",
      "execution_count": 43,
      "metadata": {
        "id": "-v0NVEZQ1nqp"
      },
      "outputs": [],
      "source": [
        "import os\n",
        "import pandas as pd\n",
        "import numpy as np\n",
        "import tensorflow as tf\n",
        "from tensorflow.keras.applications import MobileNetV2\n",
        "from tensorflow.keras import layers, models\n",
        "from tensorflow.keras.optimizers import Adam\n",
        "from sklearn.preprocessing import LabelBinarizer\n",
        "from tensorflow.keras.utils import to_categorical\n",
        "from keras.preprocessing import image\n",
        "import matplotlib.pyplot as plt\n",
        "from sklearn.metrics import classification_report, confusion_matrix, accuracy_score\n",
        "import seaborn as sns\n",
        "# from google.colab import drive\n",
        "from PIL import Image"
      ]
    },
    {
      "cell_type": "code",
      "execution_count": 3,
      "metadata": {
        "colab": {
          "base_uri": "https://localhost:8080/"
        },
        "id": "4s9KN-sY1ste",
        "outputId": "0d7a6d3c-b14d-4872-f0fb-6a8ec88f7dd7"
      },
      "outputs": [],
      "source": [
        "base_dir = (r'C:\\Users\\user\\Documents\\Loven Capstone\\dataset')\n",
        "train_dir = os.path.join(base_dir, 'penyakit kopi/train')\n",
        "validation_dir = os.path.join(base_dir, 'penyakit kopi/validation')"
      ]
    },
    {
      "cell_type": "code",
      "execution_count": 4,
      "metadata": {
        "id": "DRy8WOT81u4M"
      },
      "outputs": [],
      "source": [
        "# train_dir = '/content/drive/MyDrive/dataset/penyakit kopi/train'\n",
        "# validation_dir = '/content/drive/MyDrive/dataset/penyakit kopi/validation'"
      ]
    },
    {
      "cell_type": "code",
      "execution_count": 5,
      "metadata": {
        "id": "-Oxnl66l1w7D"
      },
      "outputs": [],
      "source": [
        "def load_images_from_directory(directory, width, height):\n",
        "    image_data = []\n",
        "    image_target = []\n",
        "    classes = os.listdir(directory)\n",
        "    for title in classes:\n",
        "        class_dir = os.path.join(directory, title)\n",
        "        if os.path.isdir(class_dir):\n",
        "            for img_name in os.listdir(class_dir):\n",
        "                img_path = os.path.join(class_dir, img_name)\n",
        "                try:\n",
        "                    with Image.open(img_path) as img:\n",
        "                        img = img.convert(\"RGB\")\n",
        "                        img = img.resize((width, height))\n",
        "                        img_array = np.array(img)\n",
        "                        image_data.append(img_array)\n",
        "                        image_target.append(title)\n",
        "                except Exception as e:\n",
        "                    print(f\"Error loading image {img_path}: {e}\")\n",
        "    return np.array(image_data), np.array(image_target) \n",
        "\n",
        "# def load_images_from_directory(directory, width, height):\n",
        "#     image_data = []\n",
        "#     image_target = []\n",
        "#     classes = os.listdir(directory)\n",
        "#     for title in classes:\n",
        "#         class_dir = os.path.join(directory, title)\n",
        "#         if os.path.isdir(class_dir):\n",
        "#             for img_name in os.listdir(class_dir):\n",
        "#                 img_path = os.path.join(class_dir, img_name)\n",
        "#                 img = cv2.imread(img_path)\n",
        "#                 if img is not None:\n",
        "#                     if img.shape[-1] == 1:\n",
        "#                         img = cv2.cvtColor(img, cv2.COLOR_GRAY2RGB)\n",
        "#                     else:\n",
        "#                         img = cv2.cvtColor(img, cv2.COLOR_BGR2RGB)\n",
        "#                     img = cv2.resize(img, (width, height))\n",
        "#                     image_data.append(img)\n",
        "#                     image_target.append(title)\n",
        "#     return np.array(image_data), np.array(image_target)\n"
      ]
    },
    {
      "cell_type": "code",
      "execution_count": 6,
      "metadata": {
        "id": "QOOt8pqE1zhG"
      },
      "outputs": [],
      "source": [
        "train_images, train_labels = load_images_from_directory(train_dir, 224, 224)\n",
        "validation_images, validation_labels = load_images_from_directory(validation_dir, 224, 224)\n",
        "\n",
        "train_images = train_images.astype('float32') / 255.0\n",
        "validation_images = validation_images.astype('float32') / 255.0\n",
        "\n",
        "lb = LabelBinarizer()\n",
        "train_labels = lb.fit_transform(train_labels)\n",
        "validation_labels = lb.transform(validation_labels)"
      ]
    },
    {
      "cell_type": "code",
      "execution_count": 7,
      "metadata": {
        "colab": {
          "base_uri": "https://localhost:8080/"
        },
        "id": "8SPWzF2tKP2C",
        "outputId": "efbb9495-de5c-4167-9b8c-0d26c85c7595"
      },
      "outputs": [],
      "source": [
        "base_model = MobileNetV2(weights='imagenet', include_top=False, input_shape=(224, 224, 3))\n",
        "\n",
        "model = models.Sequential()\n",
        "model.add(base_model)\n",
        "model.add(layers.GlobalAveragePooling2D())\n",
        "model.add(layers.BatchNormalization())\n",
        "model.add(layers.Dense(128, activation='relu'))\n",
        "model.add(layers.Dropout(0.5))\n",
        "model.add(layers.BatchNormalization())\n",
        "model.add(layers.Dense(len(lb.classes_), activation='softmax'))\n",
        "\n",
        "for layer in base_model.layers:\n",
        "    layer.trainable = False"
      ]
    },
    {
      "cell_type": "code",
      "execution_count": 8,
      "metadata": {
        "colab": {
          "base_uri": "https://localhost:8080/"
        },
        "id": "8XPvGhTAKjwl",
        "outputId": "f147d848-1c8e-46b2-9d3f-9842ccc3538a"
      },
      "outputs": [
        {
          "name": "stdout",
          "output_type": "stream",
          "text": [
            "Epoch 1/50\n",
            "36/36 [==============================] - 37s 934ms/step - loss: 1.4622 - accuracy: 0.4103 - val_loss: 1.2773 - val_accuracy: 0.4850\n",
            "Epoch 2/50\n",
            "36/36 [==============================] - 29s 816ms/step - loss: 1.0641 - accuracy: 0.5755 - val_loss: 0.9170 - val_accuracy: 0.6625\n",
            "Epoch 3/50\n",
            "36/36 [==============================] - 26s 732ms/step - loss: 0.8946 - accuracy: 0.6492 - val_loss: 0.7353 - val_accuracy: 0.7500\n",
            "Epoch 4/50\n",
            "36/36 [==============================] - 31s 858ms/step - loss: 0.7186 - accuracy: 0.7389 - val_loss: 0.6231 - val_accuracy: 0.7925\n",
            "Epoch 5/50\n",
            "36/36 [==============================] - 32s 909ms/step - loss: 0.6634 - accuracy: 0.7425 - val_loss: 0.5415 - val_accuracy: 0.8250\n",
            "Epoch 6/50\n",
            "36/36 [==============================] - 37s 1s/step - loss: 0.5784 - accuracy: 0.7940 - val_loss: 0.4829 - val_accuracy: 0.8425\n",
            "Epoch 7/50\n",
            "36/36 [==============================] - 30s 843ms/step - loss: 0.5303 - accuracy: 0.8046 - val_loss: 0.4366 - val_accuracy: 0.8675\n",
            "Epoch 8/50\n",
            "36/36 [==============================] - 29s 825ms/step - loss: 0.4828 - accuracy: 0.8215 - val_loss: 0.4020 - val_accuracy: 0.8700\n",
            "Epoch 9/50\n",
            "36/36 [==============================] - 31s 873ms/step - loss: 0.4287 - accuracy: 0.8464 - val_loss: 0.3819 - val_accuracy: 0.8725\n",
            "Epoch 10/50\n",
            "36/36 [==============================] - 33s 935ms/step - loss: 0.4472 - accuracy: 0.8419 - val_loss: 0.3644 - val_accuracy: 0.8725\n",
            "Epoch 11/50\n",
            "36/36 [==============================] - 24s 679ms/step - loss: 0.3758 - accuracy: 0.8668 - val_loss: 0.3539 - val_accuracy: 0.8775\n",
            "Epoch 12/50\n",
            "36/36 [==============================] - 23s 647ms/step - loss: 0.3565 - accuracy: 0.8792 - val_loss: 0.3393 - val_accuracy: 0.8825\n",
            "Epoch 13/50\n",
            "36/36 [==============================] - 33s 916ms/step - loss: 0.3243 - accuracy: 0.8917 - val_loss: 0.3269 - val_accuracy: 0.8850\n",
            "Epoch 14/50\n",
            "36/36 [==============================] - 27s 744ms/step - loss: 0.3136 - accuracy: 0.8952 - val_loss: 0.3180 - val_accuracy: 0.8900\n",
            "Epoch 15/50\n",
            "36/36 [==============================] - 25s 693ms/step - loss: 0.3147 - accuracy: 0.9005 - val_loss: 0.3144 - val_accuracy: 0.8900\n",
            "Epoch 16/50\n",
            "36/36 [==============================] - 25s 693ms/step - loss: 0.2776 - accuracy: 0.9112 - val_loss: 0.3079 - val_accuracy: 0.8900\n",
            "Epoch 17/50\n",
            "36/36 [==============================] - 25s 690ms/step - loss: 0.2627 - accuracy: 0.9112 - val_loss: 0.3062 - val_accuracy: 0.8900\n",
            "Epoch 18/50\n",
            "36/36 [==============================] - 24s 665ms/step - loss: 0.2640 - accuracy: 0.9103 - val_loss: 0.3020 - val_accuracy: 0.8950\n",
            "Epoch 19/50\n",
            "36/36 [==============================] - 22s 626ms/step - loss: 0.2581 - accuracy: 0.9245 - val_loss: 0.2988 - val_accuracy: 0.8975\n",
            "Epoch 20/50\n",
            "36/36 [==============================] - 24s 681ms/step - loss: 0.2351 - accuracy: 0.9165 - val_loss: 0.2984 - val_accuracy: 0.8950\n",
            "Epoch 21/50\n",
            "36/36 [==============================] - 23s 645ms/step - loss: 0.2149 - accuracy: 0.9263 - val_loss: 0.2940 - val_accuracy: 0.8950\n",
            "Epoch 22/50\n",
            "36/36 [==============================] - 23s 650ms/step - loss: 0.2263 - accuracy: 0.9343 - val_loss: 0.2901 - val_accuracy: 0.9000\n",
            "Epoch 23/50\n",
            "36/36 [==============================] - 23s 639ms/step - loss: 0.2001 - accuracy: 0.9405 - val_loss: 0.2884 - val_accuracy: 0.9000\n",
            "Epoch 24/50\n",
            "36/36 [==============================] - 22s 624ms/step - loss: 0.1971 - accuracy: 0.9414 - val_loss: 0.2845 - val_accuracy: 0.9025\n",
            "Epoch 25/50\n",
            "36/36 [==============================] - 22s 622ms/step - loss: 0.2061 - accuracy: 0.9334 - val_loss: 0.2900 - val_accuracy: 0.8975\n",
            "Epoch 26/50\n",
            "36/36 [==============================] - 23s 650ms/step - loss: 0.1828 - accuracy: 0.9467 - val_loss: 0.2895 - val_accuracy: 0.9000\n",
            "Epoch 27/50\n",
            "36/36 [==============================] - 22s 620ms/step - loss: 0.1806 - accuracy: 0.9538 - val_loss: 0.2891 - val_accuracy: 0.8950\n",
            "Epoch 28/50\n",
            "36/36 [==============================] - 23s 630ms/step - loss: 0.1604 - accuracy: 0.9618 - val_loss: 0.2815 - val_accuracy: 0.9025\n",
            "Epoch 29/50\n",
            "36/36 [==============================] - 22s 626ms/step - loss: 0.1493 - accuracy: 0.9627 - val_loss: 0.2831 - val_accuracy: 0.9000\n",
            "Epoch 30/50\n",
            "36/36 [==============================] - 22s 620ms/step - loss: 0.1473 - accuracy: 0.9618 - val_loss: 0.2841 - val_accuracy: 0.9025\n",
            "Epoch 31/50\n",
            "36/36 [==============================] - 22s 616ms/step - loss: 0.1594 - accuracy: 0.9520 - val_loss: 0.2841 - val_accuracy: 0.9000\n",
            "Epoch 32/50\n",
            "36/36 [==============================] - 22s 619ms/step - loss: 0.1423 - accuracy: 0.9627 - val_loss: 0.2816 - val_accuracy: 0.9000\n",
            "Epoch 33/50\n",
            "36/36 [==============================] - 22s 618ms/step - loss: 0.1471 - accuracy: 0.9591 - val_loss: 0.2919 - val_accuracy: 0.8975\n",
            "Epoch 34/50\n",
            "36/36 [==============================] - 22s 619ms/step - loss: 0.1471 - accuracy: 0.9618 - val_loss: 0.2890 - val_accuracy: 0.8975\n",
            "Epoch 35/50\n",
            "36/36 [==============================] - 22s 629ms/step - loss: 0.1338 - accuracy: 0.9654 - val_loss: 0.2879 - val_accuracy: 0.8950\n",
            "Epoch 36/50\n",
            "36/36 [==============================] - 22s 621ms/step - loss: 0.1289 - accuracy: 0.9636 - val_loss: 0.2849 - val_accuracy: 0.9000\n",
            "Epoch 37/50\n",
            "36/36 [==============================] - 22s 627ms/step - loss: 0.1276 - accuracy: 0.9627 - val_loss: 0.2856 - val_accuracy: 0.8950\n",
            "Epoch 38/50\n",
            "36/36 [==============================] - 22s 616ms/step - loss: 0.1254 - accuracy: 0.9680 - val_loss: 0.2871 - val_accuracy: 0.8975\n",
            "Epoch 39/50\n",
            "36/36 [==============================] - 21s 598ms/step - loss: 0.1092 - accuracy: 0.9769 - val_loss: 0.2812 - val_accuracy: 0.8950\n",
            "Epoch 40/50\n",
            "36/36 [==============================] - 22s 617ms/step - loss: 0.1208 - accuracy: 0.9689 - val_loss: 0.2835 - val_accuracy: 0.8975\n",
            "Epoch 41/50\n",
            "36/36 [==============================] - 22s 613ms/step - loss: 0.1067 - accuracy: 0.9769 - val_loss: 0.2771 - val_accuracy: 0.8975\n",
            "Epoch 42/50\n",
            "36/36 [==============================] - 22s 630ms/step - loss: 0.1049 - accuracy: 0.9769 - val_loss: 0.2752 - val_accuracy: 0.8975\n",
            "Epoch 43/50\n",
            "36/36 [==============================] - 22s 617ms/step - loss: 0.0984 - accuracy: 0.9778 - val_loss: 0.2676 - val_accuracy: 0.9100\n",
            "Epoch 44/50\n",
            "36/36 [==============================] - 22s 614ms/step - loss: 0.1019 - accuracy: 0.9822 - val_loss: 0.2743 - val_accuracy: 0.9000\n",
            "Epoch 45/50\n",
            "36/36 [==============================] - 22s 619ms/step - loss: 0.0969 - accuracy: 0.9796 - val_loss: 0.2818 - val_accuracy: 0.9000\n",
            "Epoch 46/50\n",
            "36/36 [==============================] - 22s 615ms/step - loss: 0.0983 - accuracy: 0.9787 - val_loss: 0.2810 - val_accuracy: 0.8975\n",
            "Epoch 47/50\n",
            "36/36 [==============================] - 22s 617ms/step - loss: 0.0924 - accuracy: 0.9849 - val_loss: 0.2826 - val_accuracy: 0.8975\n",
            "Epoch 48/50\n",
            "36/36 [==============================] - 22s 610ms/step - loss: 0.0959 - accuracy: 0.9813 - val_loss: 0.2804 - val_accuracy: 0.9000\n",
            "Epoch 49/50\n",
            "36/36 [==============================] - 22s 610ms/step - loss: 0.0840 - accuracy: 0.9867 - val_loss: 0.2843 - val_accuracy: 0.9000\n",
            "Epoch 50/50\n",
            "36/36 [==============================] - 22s 615ms/step - loss: 0.0901 - accuracy: 0.9849 - val_loss: 0.2857 - val_accuracy: 0.9000\n"
          ]
        }
      ],
      "source": [
        "# model.compile(optimizer=Adam(learning_rate=1e-4), loss='categorical_crossentropy', metrics=['accuracy'])\n",
        "\n",
        "model.compile(optimizer=Adam(learning_rate=0.0001), loss='categorical_crossentropy', metrics=['accuracy'])\n",
        "\n",
        "history = model.fit(\n",
        "    train_images, train_labels,\n",
        "    epochs=50,\n",
        "    batch_size=32,\n",
        "    validation_data=(validation_images, validation_labels)\n",
        ")"
      ]
    },
    {
      "cell_type": "code",
      "execution_count": 22,
      "metadata": {
        "colab": {
          "base_uri": "https://localhost:8080/",
          "height": 887
        },
        "id": "Aguez4MRKosh",
        "outputId": "9005cf9c-b915-4b0d-b2b4-3d73f515927b"
      },
      "outputs": [
        {
          "data": {
            "image/png": "[encoded data removed]",
            "text/plain": [
              "<Figure size 640x480 with 1 Axes>"
            ]
          },
          "metadata": {},
          "output_type": "display_data"
        },
        {
          "data": {
            "image/png": "[encoded data removed]",
            "text/plain": [
              "<Figure size 640x480 with 1 Axes>"
            ]
          },
          "metadata": {},
          "output_type": "display_data"
        }
      ],
      "source": [
        "import matplotlib.pyplot as plt\n",
        "\n",
        "plt.plot(history.history['accuracy'], label='accuracy')\n",
        "plt.plot(history.history['val_accuracy'], label = 'val_accuracy')\n",
        "plt.xlabel('Epoch')\n",
        "plt.ylabel('Accuracy')\n",
        "plt.ylim([0, 1])\n",
        "plt.legend(loc='lower right')\n",
        "plt.show()\n",
        "\n",
        "plt.plot(history.history['loss'], label='loss')\n",
        "plt.plot(history.history['val_loss'], label='val_loss')\n",
        "plt.xlabel('Epoch')\n",
        "plt.ylabel('Loss')\n",
        "plt.legend(loc='upper right')\n",
        "plt.show()"
      ]
    },
    {
      "cell_type": "code",
      "execution_count": 23,
      "metadata": {
        "colab": {
          "base_uri": "https://localhost:8080/"
        },
        "id": "nxmt5jl9KrFv",
        "outputId": "07ffa970-9021-4cce-c276-3ae78bf6639f"
      },
      "outputs": [
        {
          "name": "stdout",
          "output_type": "stream",
          "text": [
            "['miner', 'nodisease', 'phoma', 'rust']\n",
            "['miner', 'nodisease', 'phoma', 'rust']\n"
          ]
        }
      ],
      "source": [
        "print(os.listdir(train_dir))\n",
        "print(os.listdir(validation_dir))"
      ]
    },
    {
      "cell_type": "code",
      "execution_count": 34,
      "metadata": {},
      "outputs": [
        {
          "name": "stdout",
          "output_type": "stream",
          "text": [
            "13/13 [==============================] - 7s 499ms/step - loss: 0.2857 - accuracy: 0.9000\n",
            "Loss: 0.2857\n",
            "Accuracy: 90.00%\n",
            "13/13 [==============================] - 7s 493ms/step\n",
            "Validation Accuracy: 90.00%\n",
            "Confusion Matrix:\n",
            "[[104  12   4   8]\n",
            " [  1 108   5   2]\n",
            " [  0   0  94   2]\n",
            " [  4   1   1  54]]\n",
            "Classification Report:\n",
            "              precision    recall  f1-score   support\n",
            "\n",
            "           0       0.95      0.81      0.88       128\n",
            "           1       0.89      0.93      0.91       116\n",
            "           2       0.90      0.98      0.94        96\n",
            "           3       0.82      0.90      0.86        60\n",
            "\n",
            "    accuracy                           0.90       400\n",
            "   macro avg       0.89      0.91      0.90       400\n",
            "weighted avg       0.90      0.90      0.90       400\n",
            "\n"
          ]
        }
      ],
      "source": [
        "# Evaluate the model\n",
        "loss, accuracy = model.evaluate(validation_images, validation_labels)\n",
        "print(f'Loss: {loss:.4f}')\n",
        "print(f'Accuracy: {accuracy * 100:.2f}%')\n",
        "\n",
        "# Predict classes\n",
        "y_pred = np.argmax(model.predict(validation_images), axis=1)\n",
        "y_true = np.argmax(validation_labels, axis=1)\n",
        "\n",
        "# Calculate validation accuracy\n",
        "val_accuracy = accuracy_score(y_true, y_pred)\n",
        "print(f'Validation Accuracy: {val_accuracy * 100:.2f}%')\n",
        "\n",
        "# Print confusion matrix and classification report\n",
        "print('Confusion Matrix:')\n",
        "print(confusion_matrix(y_true, y_pred))\n",
        "print('Classification Report:')\n",
        "print(classification_report(y_true, y_pred))"
      ]
    },
    {
      "cell_type": "code",
      "execution_count": 41,
      "metadata": {},
      "outputs": [],
      "source": [
        "model.save('modelLovenBaru.h5')"
      ]
    },
    {
      "cell_type": "code",
      "execution_count": 45,
      "metadata": {},
      "outputs": [
        {
          "name": "stderr",
          "output_type": "stream",
          "text": [
            "WARNING:absl:Function `_wrapped_model` contains input name(s) mobilenetv2_1.00_224_input with unsupported characters which will be renamed to mobilenetv2_1_00_224_input in the SavedModel.\n",
            "WARNING:absl:Found untraced functions such as _jit_compiled_convolution_op, _jit_compiled_convolution_op, _jit_compiled_convolution_op, _jit_compiled_convolution_op, _jit_compiled_convolution_op while saving (showing 5 of 52). These functions will not be directly callable after loading.\n"
          ]
        },
        {
          "name": "stdout",
          "output_type": "stream",
          "text": [
            "INFO:tensorflow:Assets written to: C:\\Users\\user\\AppData\\Local\\Temp\\tmpnls8b9fu\\assets\n"
          ]
        },
        {
          "name": "stderr",
          "output_type": "stream",
          "text": [
            "INFO:tensorflow:Assets written to: C:\\Users\\user\\AppData\\Local\\Temp\\tmpnls8b9fu\\assets\n"
          ]
        },
        {
          "name": "stdout",
          "output_type": "stream",
          "text": [
            "Model has been converted to TFLite and saved as 'modelLovenBaru.tflite'\n"
          ]
        }
      ],
      "source": [
        "converter = tf.lite.TFLiteConverter.from_keras_model(model)\n",
        "tflite_model = converter.convert()\n",
        "\n",
        "with open('modelLovenBaru.tflite', 'wb') as f:\n",
        "    f.write(tflite_model)\n",
        "\n",
        "print(\"Model has been converted to TFLite and saved as 'modelLovenBaru.tflite'\")"
      ]
    },
    {
      "cell_type": "code",
      "execution_count": 37,
      "metadata": {
        "colab": {
          "base_uri": "https://localhost:8080/"
        },
        "id": "bzv_nTekKs_S",
        "outputId": "978587a0-9e12-49d9-8944-af372716ef2d"
      },
      "outputs": [
        {
          "name": "stdout",
          "output_type": "stream",
          "text": [
            "1/1 [==============================] - 0s 232ms/step\n",
            "Predicted Class: rust\n",
            "Prediction Accuracy: 84.22%\n"
          ]
        }
      ],
      "source": [
        "img_path = r'C:\\Users\\user\\Documents\\Loven Capstone\\Penyakit Bunga dan Daun Kopi.jpg'\n",
        "img = image.load_img(img_path, target_size=(224, 224))\n",
        "img_array = image.img_to_array(img)\n",
        "img_array = np.expand_dims(img_array, axis=0)\n",
        "img_array /= 255.0\n",
        "\n",
        "# Define class labels\n",
        "labels = ['miner', 'nodisease', 'phoma', 'rust']\n",
        "\n",
        "# Make a prediction\n",
        "prediction = model.predict(img_array)\n",
        "index = np.argmax(prediction)\n",
        "class_names = labels[index]\n",
        "\n",
        "# Print prediction results\n",
        "accuracy = np.max(prediction) * 100\n",
        "predicted_class = class_names\n",
        "print(f\"Predicted Class: {predicted_class}\")\n",
        "print(f\"Prediction Accuracy: {accuracy:.2f}%\")\n",
        "\n",
        "# Save the model\n",
        "model.save(\"coffeeLeaf.h5\")\n",
        "\n",
        "# # Evaluate the model on the validation set\n",
        "# val_predictions = model.predict(validation_images)\n",
        "# val_predictions_classes = np.argmax(val_predictions, axis=1)\n",
        "# val_true_classes = np.argmax(validation_labels, axis=1)\n",
        "\n",
        "# # Print evaluation metrics\n",
        "# print(\"Accuracy: \", accuracy_score(val_true_classes, val_predictions_classes))\n",
        "# print(\"Classification Report:\\n\", classification_report(val_true_classes, val_predictions_classes, target_names=labels))\n",
        "# print(\"Confusion Matrix:\\n\", confusion_matrix(val_true_classes, val_predictions_classes))\n",
        "\n",
        "# # Visualize the confusion matrix\n",
        "# conf_matrix = confusion_matrix(val_true_classes, val_predictions_classes)\n",
        "# plt.figure(figsize=(10, 8))\n",
        "# sns.heatmap(conf_matrix, annot=True, fmt='d', cmap='Blues', xticklabels=labels, yticklabels=labels)\n",
        "# plt.xlabel('Predicted')\n",
        "# plt.ylabel('Actual')\n",
        "# plt.title('Confusion Matrix')\n",
        "# plt.show()"
      ]
    }
  ],
  "metadata": {
    "colab": {
      "provenance": []
    },
    "kernelspec": {
      "display_name": "Python 3",
      "name": "python3"
    },
    "language_info": {
      "codemirror_mode": {
        "name": "ipython",
        "version": 3
      },
      "file_extension": ".py",
      "mimetype": "text/x-python",
      "name": "python",
      "nbconvert_exporter": "python",
      "pygments_lexer": "ipython3",
      "version": "3.8.18"
    }
  },
  "nbformat": 4,
  "nbformat_minor": 0
}
