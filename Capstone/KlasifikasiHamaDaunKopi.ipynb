{
  "nbformat": 4,
  "nbformat_minor": 0,
  "metadata": {
    "colab": {
      "provenance": []
    },
    "kernelspec": {
      "name": "python3",
      "display_name": "Python 3"
    },
    "language_info": {
      "name": "python"
    }
  },
  "cells": [
    {
      "cell_type": "code",
      "execution_count": null,
      "metadata": {
        "colab": {
          "base_uri": "https://localhost:8080/"
        },
        "id": "GQ7JRCzDVbEc",
        "outputId": "5c24f933-50e1-4896-9c7e-2795e94e7a00"
      },
      "outputs": [
        {
          "output_type": "stream",
          "name": "stdout",
          "text": [
            "Mounted at /content/drive\n"
          ]
        }
      ],
      "source": [
        "from google.colab import drive\n",
        "drive.mount('/content/drive')"
      ]
    },
    {
      "cell_type": "code",
      "source": [
        "import pandas as pd\n",
        "import os\n",
        "import shutil"
      ],
      "metadata": {
        "id": "rbpD6tA_Vcja"
      },
      "execution_count": null,
      "outputs": []
    },
    {
      "cell_type": "code",
      "source": [
        "# Path ke file annotations.csv di Google Drive\n",
        "csv_path = '/content/drive/MyDrive/dataset/daunkopi/test/_annotations.csv'\n",
        "annotations = pd.read_csv(csv_path)\n",
        "\n",
        "# Filter baris yang mengandung \"Daun Sehat\"\n",
        "daun_sehat_files = annotations[annotations['class'].str.contains(\"Daun Sehat\", case=False, na=False)]['filename'].tolist()\n",
        "\n",
        "# Path folder train di Google Drive\n",
        "train_dir = '/content/drive/MyDrive/dataset/daunkopi/test'\n",
        "\n",
        "# Membuat direktori baru dengan nama 'sehat' di Google Drive\n",
        "output_dir = '/content/drive/MyDrive/dataset/daunkopi/sehat'\n",
        "os.makedirs(output_dir, exist_ok=True)\n",
        "\n",
        "# Menyalin file gambar yang cocok ke folder 'sehat'\n",
        "for file_name in daun_sehat_files:\n",
        "    src_path = os.path.join(train_dir, file_name)\n",
        "    dst_path = os.path.join(output_dir, file_name)\n",
        "    if os.path.exists(src_path):\n",
        "        shutil.copy(src_path, dst_path)\n",
        "\n",
        "print(f\"Total {len(daun_sehat_files)} files copied to {output_dir}\")"
      ],
      "metadata": {
        "colab": {
          "base_uri": "https://localhost:8080/"
        },
        "id": "W1i3KfVWYHNS",
        "outputId": "67158861-049a-4d97-9bb6-b6574fd41377"
      },
      "execution_count": null,
      "outputs": [
        {
          "output_type": "stream",
          "name": "stdout",
          "text": [
            "Total 105 files copied to /content/drive/MyDrive/dataset/daunkopi/sehat\n"
          ]
        }
      ]
    },
    {
      "cell_type": "code",
      "source": [
        "# Path ke file annotations.csv di Google Drive\n",
        "csv_path = '/content/drive/MyDrive/dataset/daunkopi/test/_annotations.csv'\n",
        "annotations = pd.read_csv(csv_path)\n",
        "\n",
        "# Filter baris yang mengandung \"Daun Karat\"\n",
        "daun_karat_files = annotations[annotations['class'].str.contains(\"Daun Karat\", case=False, na=False)]['filename'].tolist()\n",
        "\n",
        "# Path folder train di Google Drive\n",
        "train_dir = '/content/drive/MyDrive/dataset/daunkopi/test'\n",
        "\n",
        "# Membuat direktori baru dengan nama 'sehat' di Google Drive\n",
        "output_dir = '/content/drive/MyDrive/dataset/daunkopi/karat'\n",
        "os.makedirs(output_dir, exist_ok=True)\n",
        "\n",
        "# Menyalin file gambar yang cocok ke folder 'sehat'\n",
        "for file_name in daun_karat_files:\n",
        "    src_path = os.path.join(train_dir, file_name)\n",
        "    dst_path = os.path.join(output_dir, file_name)\n",
        "    if os.path.exists(src_path):\n",
        "        shutil.copy(src_path, dst_path)\n",
        "\n",
        "print(f\"Total {len(daun_sehat_files)} files copied to {output_dir}\")"
      ],
      "metadata": {
        "colab": {
          "base_uri": "https://localhost:8080/"
        },
        "id": "1rs6IOL-riZh",
        "outputId": "5cae1478-0769-4dc3-c54e-c756a171ce10"
      },
      "execution_count": null,
      "outputs": [
        {
          "output_type": "stream",
          "name": "stdout",
          "text": [
            "Total 105 files copied to /content/drive/MyDrive/dataset/daunkopi/karat\n"
          ]
        }
      ]
    },
    {
      "cell_type": "code",
      "source": [
        "# Path ke file annotations.csv di Google Drive\n",
        "csv_path = '/content/drive/MyDrive/dataset/daunkopi/test/_annotations.csv'\n",
        "annotations = pd.read_csv(csv_path)\n",
        "\n",
        "# Filter baris yang mengandung \"Daun bercak\"\n",
        "daun_bercak_files = annotations[annotations['class'].str.contains(\"Daun Bercak\", case=False, na=False)]['filename'].tolist()\n",
        "\n",
        "# Path folder train di Google Drive\n",
        "train_dir = '/content/drive/MyDrive/dataset/daunkopi/test'\n",
        "\n",
        "# Membuat direktori baru dengan nama 'bercak' di Google Drive\n",
        "output_dir = '/content/drive/MyDrive/dataset/daunkopi/bercak'\n",
        "os.makedirs(output_dir, exist_ok=True)\n",
        "\n",
        "# Menyalin file gambar yang cocok ke folder 'sehat'\n",
        "for file_name in daun_bercak_files:\n",
        "    src_path = os.path.join(train_dir, file_name)\n",
        "    dst_path = os.path.join(output_dir, file_name)\n",
        "    if os.path.exists(src_path):\n",
        "        shutil.copy(src_path, dst_path)\n",
        "\n",
        "print(f\"Total {len(daun_bercak_files)} files copied to {output_dir}\")"
      ],
      "metadata": {
        "colab": {
          "base_uri": "https://localhost:8080/"
        },
        "id": "Fmq8mT0Dtf-S",
        "outputId": "9a7c3c19-6ada-426f-8237-3042486e4e21"
      },
      "execution_count": null,
      "outputs": [
        {
          "output_type": "stream",
          "name": "stdout",
          "text": [
            "Total 98 files copied to /content/drive/MyDrive/dataset/daunkopi/bercak\n"
          ]
        }
      ]
    },
    {
      "cell_type": "code",
      "source": [
        "# Path ke folder 'sehat'\n",
        "output_dir = '/content/drive/MyDrive/dataset/daunkopi/sehat'\n",
        "\n",
        "# Cek apakah folder 'sehat' ada dan tampilkan isinya\n",
        "if os.path.exists(output_dir):\n",
        "    files = os.listdir(output_dir)\n",
        "    print(f\"Folder 'sehat' telah dibuat dan berisi {len(files)} file:\")\n",
        "    for file in files:\n",
        "        print(file)\n",
        "else:\n",
        "    print(\"Folder 'sehat' tidak ditemukan.\")"
      ],
      "metadata": {
        "colab": {
          "base_uri": "https://localhost:8080/"
        },
        "id": "Ui0dji2yfREw",
        "outputId": "6b790cc9-d136-428a-c241-a2ce631b026c"
      },
      "execution_count": null,
      "outputs": [
        {
          "output_type": "stream",
          "name": "stdout",
          "text": [
            "Folder 'sehat' telah dibuat dan berisi 105 file:\n",
            "IMG_2207-576x768_JPG.rf.03139f9e3677fc6f60bea4906cf1dbab.jpg\n",
            "IMG_20230320_111105-432x768_jpg.rf.059e45114cc611e30be9e835d83f4c22.jpg\n",
            "IMG_20221126_111931-576x768_jpg.rf.079a48ed612dcf6e33a84124ace1377e.jpg\n",
            "IMG_2174-576x768_JPG.rf.0cb32507ccccf53b4b2dd8ec62519e8f.jpg\n",
            "IMG_20221126_123400-576x768_jpg.rf.0e88c07576e10c895783be5f65209c68.jpg\n",
            "IMG_20230320_114358-1365x768_jpg.rf.13f2ab5f95b64ea6c374b37b4b6817ab.jpg\n",
            "IMG_20230320_111842-432x768_jpg.rf.149c4ea293a71b4d6cd7bbb01aae1d90.jpg\n",
            "IMG_20230320_110006-432x768_jpg.rf.132176db7e19948679fce8102e7217f0.jpg\n",
            "IMG_20230320_111946-432x768_jpg.rf.14d23561ce295b79e2e407e2090083ce.jpg\n",
            "IMG_20221126_122319-434x768_jpg.rf.17b45e400aced0d85da9524d3ca97756.jpg\n",
            "IMG_2757-576x768_JPG.rf.1cfec2db586d0e6f136d7fe3908c2c21.jpg\n",
            "IMG_20221126_113132-576x768_jpg.rf.214baf12689ccb855db17f42ff70c12f.jpg\n",
            "IMG_2203-576x768_JPG.rf.20e92e18428c6f5a1289e66ba14802da.jpg\n",
            "IMG_20230320_111019-1365x768_jpg.rf.1cfe9646b8a7c82a2e2d5780deeac5e3.jpg\n",
            "IMG_2178-576x768_JPG.rf.222243fc96cb3f5f7949dcc020c7fdc4.jpg\n",
            "IMG_20221126_123239-576x768_jpg.rf.23b5349bf925c6ed88eab8a50c04a10e.jpg\n",
            "IMG_20230320_105754-432x768_jpg.rf.2771e486ec6923fd0bbb660ab9bc9983.jpg\n",
            "IMG_20221126_105031-576x768_jpg.rf.2a9344020d3e11947803af50a1767f5a.jpg\n",
            "IMG_2181-576x768_JPG.rf.2b987d415f9f6330b2cbe407563d3e13.jpg\n",
            "IMG_20230320_112703-432x768_jpg.rf.2f041df140241a7cab9daa8811e23c96.jpg\n",
            "IMG_20221126_114411-434x768_jpg.rf.30534cec90fd2f54312ca9d415efa8dd.jpg\n",
            "IMG_20221126_114733-434x768_jpg.rf.2ef5a531bfe62a7f9ec044b0959b3d7d.jpg\n",
            "IMG_20230320_112413-432x768_jpg.rf.357dcaae5d8dc111288b6fe28e6523bb.jpg\n",
            "IMG_20230320_114633-432x768_jpg.rf.3c7bdab54dfd7c4c6a6823a1c8672414.jpg\n",
            "IMG_20230320_112513-432x768_jpg.rf.3ab3a2a05ba89d7cf92d499db18577fd.jpg\n",
            "IMG_20230320_115107-432x768_jpg.rf.3e326537c67b48853953c398ae31f13e.jpg\n",
            "IMG_20230320_113559-432x768_jpg.rf.3d7fa163abb3b0d0d785c8750e648813.jpg\n",
            "IMG_20230320_115820-432x768_jpg.rf.43ed24192276261b83c2a8a5e7eb8002.jpg\n",
            "IMG_20230320_113701-1365x768_jpg.rf.434be40cf67fb8372e27474dd3fd0362.jpg\n",
            "IMG_20230320_112726-432x768_jpg.rf.4df347cd11f3e109d99f5dc4d84faa01.jpg\n",
            "IMG_20230320_111853-432x768_jpg.rf.487664f0d388d2ef7ec44e351a7657b6.jpg\n",
            "IMG_20230320_110450-432x768_jpg.rf.4c5fc5b446a000ea3b081eec178ed646.jpg\n",
            "IMG_20230320_111800-432x768_jpg.rf.4a0df247d6ec83ada3b80a2dcdef965f.jpg\n",
            "IMG_20230320_112406-432x768_jpg.rf.4fed8d22ab2086cc5b63f79cafdd1701.jpg\n",
            "IMG_20230320_112004-432x768_jpg.rf.5247deb552cdb19dd3f9d49e8f702d1a.jpg\n",
            "IMG_20230320_111014-432x768_jpg.rf.4f3eb67e972423a4e165205c901ff535.jpg\n",
            "IMG_20221126_121856-576x768_jpg.rf.5806d26acfeb01740dc4a8de60dacf1d.jpg\n",
            "IMG_20230320_111709-432x768_jpg.rf.4ebc9268c8143f5118601816cb7560d1.jpg\n",
            "IMG_20230320_115100-432x768_jpg.rf.59259cdf008bdd43ada933f08cf78568.jpg\n",
            "IMG_20221126_123820-434x768_jpg.rf.57737c41750d529e44830b594a3023f7.jpg\n",
            "IMG_20221126_123600-576x768_jpg.rf.5cdca3d560df8fee5d04773005413e85.jpg\n",
            "IMG_20230320_112204-432x768_jpg.rf.59616510147505e6e3919bb8af9b637d.jpg\n",
            "IMG_20230320_113230-432x768_jpg.rf.76f0d2abe74a27de47a1ac2cf017e94e.jpg\n",
            "IMG_20230320_105745-432x768_jpg.rf.6bace15618a8574364589e8c3cd75c7f.jpg\n",
            "IMG_20230320_111720-432x768_jpg.rf.6580dd8f6c7712bd3f03bb53217cbd55.jpg\n",
            "IMG_20230320_111753-432x768_jpg.rf.72b1b47b617ca966901085c51406ef6f.jpg\n",
            "IMG_20221126_111147-576x768_jpg.rf.6563736e3078aa40560d82afaf9a2513.jpg\n",
            "IMG_2162-576x768_JPG.rf.7e4f6ce90957cb59386167b8f32e2711.jpg\n",
            "IMG_2163-576x768_JPG.rf.681d9716de5a57d82bbb28c860675e06.jpg\n",
            "IMG_20230320_114835-432x768_jpg.rf.7ae15d91f1a8331524ba5ada9878615b.jpg\n",
            "IMG_20221126_121046-576x768_jpg.rf.7a15f307e89ece0bfdc6ed797b28809d.jpg\n",
            "IMG_20230320_112928-432x768_jpg.rf.77870a61b66785b6aa30d870961f46cc.jpg\n",
            "IMG_20230320_114104-432x768_jpg.rf.80f5e89d9b3d5649bff25509806558e8.jpg\n",
            "IMG_2145-576x768_JPG.rf.8a8d994c93a9c7be51969d0a45b36479.jpg\n",
            "IMG_2165-576x768_JPG.rf.830124aa49099204f698d5f634828965.jpg\n",
            "IMG_20230320_110022-432x768_jpg.rf.857a0e50e929115d6cbeb7fa249e261b.jpg\n",
            "IMG_20230320_110246-432x768_jpg.rf.8aded9f32c858e930e5425d176acff99.jpg\n",
            "IMG_20230320_110753-1365x768_jpg.rf.8fdba9745782c3393194220b33b2ed25.jpg\n",
            "IMG_20230320_115311-432x768_jpg.rf.8e14443f7ae353d5611e11c993f2753b.jpg\n",
            "IMG_20230320_113158-432x768_jpg.rf.8fe42d57ed580617cfdc043de01835cc.jpg\n",
            "IMG_20230320_105629-432x768_jpg.rf.8f351ecc3f7a514cd2650b0efcb16d34.jpg\n",
            "IMG_20230320_114721-1365x768_jpg.rf.94da556a4ecfa7d77919f0663712acbd.jpg\n",
            "IMG_20230320_110759-432x768_jpg.rf.8e8a7aa4742a02ee3157d744db496e4c.jpg\n",
            "IMG_20230320_115925-1365x768_jpg.rf.99ef94ccae6fea477f49f4f9277d15b7.jpg\n",
            "IMG_20230320_113034-432x768_jpg.rf.9bd9472a7fe2598f2fa7efef8baea1d0.jpg\n",
            "IMG_20221126_114330-576x768_jpg.rf.9deeeee539076d6fd89ff7d764d4d2b4.jpg\n",
            "IMG_20221126_114215-434x768_jpg.rf.a103b8c8bc82c6084d4413aedb69ec65.jpg\n",
            "IMG_20230320_113237-432x768_jpg.rf.a1d97e063b859dba5974f48d3fb9539f.jpg\n",
            "IMG_20221126_123144-576x768_jpg.rf.a3501bc2df4e6e2517def6e06251ea66.jpg\n",
            "IMG_20230320_111412-432x768_jpg.rf.a339369a7c0cb6a24dfb4c80b68378e2.jpg\n",
            "IMG_20221126_113320-576x768_jpg.rf.a87c3895e819cd44ac215fc8641d582d.jpg\n",
            "IMG_20230320_112300-432x768_jpg.rf.a98a3b3f59ae2e37f396d75955032ed5.jpg\n",
            "IMG_20230320_114300-1365x768_jpg.rf.b66c0031777063335f96bfa862a51b5d.jpg\n",
            "IMG_20221126_114315-434x768_jpg.rf.bcaa578233b2f3d1ac6fae39b05051a5.jpg\n",
            "IMG_20230320_114849-432x768_jpg.rf.b801fd863df736967b7142df2d088782.jpg\n",
            "IMG_20221126_111153-576x768_jpg.rf.bd31dd80fda1e097cf5d64cfbbe7de89.jpg\n",
            "20221126_114555-432x768_jpg.rf.c235b4a62a7573faae20fcf112497d48.jpg\n",
            "IMG_20221126_113601-576x768_jpg.rf.b6ca06b476fdab58f7033a41abdfd7f7.jpg\n",
            "IMG_20230320_115242-432x768_jpg.rf.c7766fb86337fa38a24751225513a287.jpg\n",
            "IMG_20221126_123135-576x768_jpg.rf.c2520d8e8f0e3333be031ee402070e83.jpg\n",
            "IMG_20221126_113628-576x768_jpg.rf.c6d6eb3bbeb7c887b916d082effb41dc.jpg\n",
            "IMG_20230320_111427-432x768_jpg.rf.c51a2745a38393fcd5e7baa384ebd480.jpg\n",
            "IMG_20221126_111927-576x768_jpg.rf.ce812362555804f720e6450db01acee4.jpg\n",
            "IMG_20230320_112322-432x768_jpg.rf.c1ad70ad16b3fb87022d0bce420f8160.jpg\n",
            "IMG_2155-576x768_JPG.rf.d097854800ac0ff62282ac241e00df3f.jpg\n",
            "IMG_20230320_110033-432x768_jpg.rf.d39dbb90a9bc5b111c51ca41614667c6.jpg\n",
            "IMG_20230320_115551-1365x768_jpg.rf.d4814a719e95ae5de9f76ce3dd1e6776.jpg\n",
            "IMG_20221126_123909-434x768_jpg.rf.d4f8f01c6b2a28feb1bf511d4981f75e.jpg\n",
            "IMG_20230320_115257-432x768_jpg.rf.dda27b49d6a53a47e7b0ede5fbbf71d8.jpg\n",
            "20221126_115224-432x768_jpg.rf.e356d415c16386c6cd755788df068610.jpg\n",
            "IMG_20230320_114255-1365x768_jpg.rf.de6c8de7d61e0458073c3822423bf016.jpg\n",
            "IMG_20221126_123242-576x768_jpg.rf.d9ea05ca2fc85698ad79f8be2d6c788d.jpg\n",
            "IMG_20230320_114707-432x768_jpg.rf.e1d82553de4ef77f62803285c3db2629.jpg\n",
            "IMG_2200-1024x768_JPG.rf.e0fbc1ad877875cf07cfd7b7c1c00e27.jpg\n",
            "IMG_20230320_110811-432x768_jpg.rf.ea42d4d52a6ccec602e84ceada3bfab1.jpg\n",
            "IMG_2202-576x768_JPG.rf.faf1df62f5332823d4124eda79878640.jpg\n",
            "IMG_20230320_112854-432x768_jpg.rf.ee30e7d5573c5aaebf191a7df2c41953.jpg\n",
            "IMG_20230320_115813-432x768_jpg.rf.ea7f0211fb6b1987c9cfa3f067e2d0b3.jpg\n",
            "IMG_20230320_111137-432x768_jpg.rf.f39a478438eb6b5d79987320b3adde36.jpg\n",
            "IMG_20221126_114543-434x768_jpg.rf.f1c08d8ccd0db17e7cf235eb02e6ca22.jpg\n",
            "IMG_2176-576x768_JPG.rf.ee87c19b9a5386287f232158724b9c2a.jpg\n",
            "IMG_20230320_113956-432x768_jpg.rf.fbc4d2d2685f5b717b94b2852e1eb581.jpg\n",
            "IMG_20230320_115755-432x768_jpg.rf.f97d72f465de40f1d321c33fecdc5240.jpg\n",
            "IMG_20221126_114600-434x768_jpg.rf.f49fbe05bd95f4252b634859fe04b5af.jpg\n",
            "IMG_20221126_121056-434x768_jpg.rf.fde0d0efe0643d7066a947595a4d77b6.jpg\n"
          ]
        }
      ]
    },
    {
      "cell_type": "code",
      "source": [
        "# Path ke folder 'karat'\n",
        "output_dir = '/content/drive/MyDrive/dataset/daunkopi/karat'\n",
        "\n",
        "# Cek apakah folder 'karat' ada dan tampilkan isinya\n",
        "if os.path.exists(output_dir):\n",
        "    files = os.listdir(output_dir)\n",
        "    print(f\"Folder 'karat' telah dibuat dan berisi {len(files)} file:\")\n",
        "    for file in files:\n",
        "        print(file)\n",
        "else:\n",
        "    print(\"Folder 'karat' tidak ditemukan.\")"
      ],
      "metadata": {
        "colab": {
          "base_uri": "https://localhost:8080/"
        },
        "id": "40JXYCuisuga",
        "outputId": "5d51afa7-d7b8-452e-ed53-8fee3be760f9"
      },
      "execution_count": null,
      "outputs": [
        {
          "output_type": "stream",
          "name": "stdout",
          "text": [
            "Folder 'karat' telah dibuat dan berisi 98 file:\n",
            "IMG_20230520_101544-1365x768_jpg.rf.12bd9178886ef240c0aca4497e81c12c.jpg\n",
            "IMG20230520104338-576x768_jpg.rf.11aa1b845d9553e52bec84f01139f312.jpg\n",
            "IMG20230520105442-432x768_jpg.rf.056c5074e21ab5b896c95de751d19042.jpg\n",
            "IMG_20221126_110443-432x768_jpg.rf.0ff9620d6c718b1823c7a37f5d8c871e.jpg\n",
            "IMG_20230520_110115-434x768_jpg.rf.1227a3ab74842e496027839dbf667f0f.jpg\n",
            "IMG20230520105534-432x768_jpg.rf.0683d9f96564cbd48e2cb67da96d1666.jpg\n",
            "IMG_20221126_122305-432x768_jpg.rf.02f011146ce952fb2456ada434bea42f.jpg\n",
            "IMG20230520111822-576x768_jpg.rf.0c5e16bafbfe6dcf00e0f7d563d0db34.jpg\n",
            "IMG20230520104524-1364x768_jpg.rf.1a95fda60a5c4011b8db86354a060dc4.jpg\n",
            "IMG_20230520_101343-432x768_jpg.rf.178f8ef56bd20c96b2048f1d183cbe39.jpg\n",
            "karat-5-432x768_jpg.rf.1d224ef972bb89c3ee93a89ff2f9ce2d.jpg\n",
            "IMG_20230520_105241-432x768_jpg.rf.26065d282ca95bd4d7f50c3e4d2d3497.jpg\n",
            "IMG20230520105953-576x768_jpg.rf.28f3cfe0d9677d1d4f4aa9c4f10e6922.jpg\n",
            "IMG_20230520_112047-434x768_jpg.rf.2663aeafb95037ba6a7a11a56052abf7.jpg\n",
            "IMG_20230520_111628-434x768_jpg.rf.2a783cf313f21cf152986e8b78939179.jpg\n",
            "TimePhoto_20230520_110514-1024x768_jpg.rf.2b62bdff2ade817bf4e766644e49e16a.jpg\n",
            "TimePhoto_20230520_105256-576x768_jpg.rf.2b8f64b35266ac75ed477184dc0867eb.jpg\n",
            "IMG20230520105556-576x768_jpg.rf.2bd5a3721cd27c484abff69b20f4ec14.jpg\n",
            "IMG20230520112853-576x768_jpg.rf.30160da7c3045896219bf25a04cbaf82.jpg\n",
            "IMG20230520110935-576x768_jpg.rf.2e58a7d1eacbd60f9d09fea7268fc74e.jpg\n",
            "IMG20230520112838-432x768_jpg.rf.35cbfee56662617bbea7dec4957de651.jpg\n",
            "IMG20230520105850-1024x768_jpg.rf.34d42826a8f1c94fdd07a452ca68fd09.jpg\n",
            "IMG_20230520_110601-434x768_jpg.rf.38e686218e55f0ba7a47ae01ef2dabd2.jpg\n",
            "IMG_20230520_111126-1365x768_jpg.rf.3c44ef040538cff96605d86a969a7850.jpg\n",
            "TimePhoto_20230520_105036-1024x768_jpg.rf.41c07bee62bc6436d1e9c96ae777370c.jpg\n",
            "IMG_20230520_101845-1365x768_jpg.rf.44f141d4cb9e4b1aff31ad21436c74d9.jpg\n",
            "IMG_20230520_104904-1365x768_jpg.rf.45ca757b688d8100f53b81b9ec64c18b.jpg\n",
            "IMG_20230520_110255-432x768_jpg.rf.46e53b202618d092ddedb12fb7d97ed6.jpg\n",
            "karat-20-432x768_jpg.rf.484dd5a6e888e227a70de3d07ecad098.jpg\n",
            "IMG20230520104432-576x768_jpg.rf.47e3f9fe6e48b1bf097429543d876ef8.jpg\n",
            "IMG_20230520_105824-432x768_jpg.rf.56ff32baabd9cb3bb6b56019118e4cb7.jpg\n",
            "IMG_20230520_105726-1365x768_jpg.rf.4ebdaee04426c896f2c6602f9330f187.jpg\n",
            "IMG_20230520_111201-432x768_jpg.rf.5637a463305bb041c4a87bf5497967ee.jpg\n",
            "IMG20230520105114-1364x768_jpg.rf.5b19bdd011bf6bd07c7b421d74319860.jpg\n",
            "IMG_20230520_105537-432x768_jpg.rf.624a15cd4c5bff5abec7fc13eb4747b3.jpg\n",
            "IMG_20230520_104520-432x768_jpg.rf.64a3033823d8e951dfa04a361b2d289b.jpg\n",
            "TimePhoto_20230520_105501-576x768_jpg.rf.63f25d6622b6aefe95af2b82c6f82bd4.jpg\n",
            "TimePhoto_20230520_110454-576x768_jpg.rf.6064abed21dc8137624c0cf90817e017.jpg\n",
            "IMG20230520111250-576x768_jpg.rf.773acf24d50694eb5eef670b687e6b20.jpg\n",
            "IMG_20230520_110023-432x768_jpg.rf.784617748e19aedf58c2e1b24b16e127.jpg\n",
            "IMG20230520112218-432x768_jpg.rf.80fb1fac88a53dd9abe372e03d3e6636.jpg\n",
            "IMG20230520105058-432x768_jpg.rf.7818ccad32c33455941030ded0c64f2f.jpg\n",
            "karat-21-1365x768_jpg.rf.6f706d305e52170cdba03b64ad05de6c.jpg\n",
            "TimePhoto_20230520_111422-1024x768_jpg.rf.7a04c707dc2ad194b39031b3d057ecc3.jpg\n",
            "IMG_20230520_105151-432x768_jpg.rf.84d428a47701870e3aae325cd1010585.jpg\n",
            "IMG_20230520_110711-432x768_jpg.rf.8100d57506de06c5dd0e5790d20328ea.jpg\n",
            "IMG_20230520_111609-432x768_jpg.rf.8a037d384831fd9ef3c78b5679d624f2.jpg\n",
            "IMG20230520112319-432x768_jpg.rf.84b28db31ba3d29e7271971fc2faedf1.jpg\n",
            "IMG_20230520_110535-432x768_jpg.rf.8fa8cf588ea50a753206d8c45fbfbc1c.jpg\n",
            "IMG20230520110524-432x768_jpg.rf.9673a7ea06d717195e02fd43cb51f966.jpg\n",
            "IMG_20221126_115720-432x768_jpg.rf.8b261b7fa1e0000d0aae09e73a1563ce.jpg\n",
            "IMG_20221126_120328-1365x768_jpg.rf.91a04e296c5e1205c78383a0d821696f.jpg\n",
            "IMG_20221126_105836-Copy-432x768_jpg.rf.934e9ea9a2adda392ee53731dc0cad46.jpg\n",
            "IMG_20230520_105046-434x768_jpg.rf.96d5e53a6e0409af7b129d7dabc01f17.jpg\n",
            "IMG_20230520_105107-432x768_jpg.rf.9b362412b57b28862c2094f4095dcf80.jpg\n",
            "IMG_20230520_110537-432x768_jpg.rf.981152b51601b790b051cee7d7938edd.jpg\n",
            "IMG_20230520_111220-434x768_jpg.rf.9af1a7ffef2df82dae1799284d7b8be7.jpg\n",
            "IMG20230520110502-432x768_jpg.rf.a5684b2996f1436b8925973ca7451430.jpg\n",
            "IMG20230520110520-432x768_jpg.rf.a478b481968de4691f9a2f6e4e399aee.jpg\n",
            "IMG_20230520_104804-432x768_jpg.rf.7663612a7f1698161c63854e53ac8da5.jpg\n",
            "IMG20230520111615-576x768_jpg.rf.9fa275969a57df807823bbb47158ca8b.jpg\n",
            "IMG_20230520_105049-432x768_jpg.rf.a26e112e9dad2a9e4fae95cc11ee365b.jpg\n",
            "TimePhoto_20230520_105342-1024x768_jpg.rf.a8d67f6647256cd66ffbae7626725f23.jpg\n",
            "IMG_20230520_104641-434x768_jpg.rf.b10f9a7dd6b1ade9364ea411aa13613b.jpg\n",
            "IMG_20230520_105037-432x768_jpg.rf.af7dcb667808abebd4c8710347ad0083.jpg\n",
            "IMG_20230520_112947-434x768_jpg.rf.a88849de28146ab56255b372ebf556ee.jpg\n",
            "karat-2-432x768_jpg.rf.bd03151d486c14d2aa6edbc45594bb61.jpg\n",
            "IMG_20230520_111925-434x768_jpg.rf.bba3f108dbdfab74732f2c7d6cf571b2.jpg\n",
            "IMG_20230520_105640-434x768_jpg.rf.bd493fd8c650ff71b0e73bab1cf01e8b.jpg\n",
            "IMG20230520112039_BURST000_COVER-576x768_jpg.rf.c858d1f131b39915e499ed9c57221f7c.jpg\n",
            "IMG_20230520_111057-432x768_jpg.rf.cdc0cf6c01d9beb144a673f751f7a462.jpg\n",
            "IMG_20230520_105550-432x768_jpg.rf.d064b15c441c033bc7c2cd4ec6263d72.jpg\n",
            "TimePhoto_20230520_110935-576x768_jpg.rf.c5cdca6b5bc2ec45ec7b29e67549b8c6.jpg\n",
            "IMG20230520111844-1364x768_jpg.rf.c8c09273c8fba56278bc438b334e459e.jpg\n",
            "IMG_20230520_104455-434x768_jpg.rf.c7ca6bb757eed7cd5a021818bbcbeb06.jpg\n",
            "IMG_20230520_111241-434x768_jpg.rf.c922e33f38e33472640906433fd885c2.jpg\n",
            "IMG_20230520_111136-432x768_jpg.rf.d8b06a9db29ef4927e17495c212c721a.jpg\n",
            "IMG20230520104907-576x768_jpg.rf.d7c2177e052c093222b995bc1e4fa852.jpg\n",
            "IMG20230520111829-576x768_jpg.rf.df66fdc35a9ff4f41ca14d8b7fed9b54.jpg\n",
            "IMG20230520112144-432x768_jpg.rf.a90f3c1faa7b1bca5da63de30c3f13a5.jpg\n",
            "TimePhoto_20230520_105948-1024x768_jpg.rf.d8e1760527f3e55be941fae4a9adddf4.jpg\n",
            "TimePhoto_20230520_105904-576x768_jpg.rf.db1c015b9a56b54675e66f4915bb3460.jpg\n",
            "IMG20230520111154-576x768_jpg.rf.ddcb6b7bcc70e91adeb374789050264a.jpg\n",
            "IMG20230520110605-1024x768_jpg.rf.da15aec38db4e33daaebf31323d553e6.jpg\n",
            "IMG_20230520_105534-432x768_jpg.rf.e0af95c4220ff2332073583682a49cf1.jpg\n",
            "IMG_20230520_105158-432x768_jpg.rf.db0d5fb3722244fbfb1a7164c33d0cda.jpg\n",
            "IMG20230520105625-432x768_jpg.rf.e968f471c7aa46d376fc6391d6e9fd04.jpg\n",
            "IMG_20230520_110337-432x768_jpg.rf.e36f37e39a414299953517d4d763240b.jpg\n",
            "TimePhoto_20230520_105409-576x768_jpg.rf.f5c92c5af6156159fbcbd3a4245f5c58.jpg\n",
            "IMG_20230520_110434-432x768_jpg.rf.f24fc7da0d2e60477bdc7e0662eaa6b5.jpg\n",
            "IMG_20230520_105452-432x768_jpg.rf.ee06d2510074526e69d9e68ceeea85e5.jpg\n",
            "IMG_20230520_111049-432x768_jpg.rf.ee9798e089ea7fce0c8ce5943ceac2fe.jpg\n",
            "IMG_20221126_122107-1365x768_jpg.rf.f796e014b85e489b2a5d77939deb452a.jpg\n",
            "IMG_20230520_112836-434x768_jpg.rf.f1b0e41a5df05a28fc4c6af2bab07b1c.jpg\n",
            "IMG20230520105513-576x768_jpg.rf.fb428df3321b3ad180f2c67cbe9af8b3.jpg\n",
            "IMG_20230520_110310-1365x768_jpg.rf.fda48c9726ff23c9d51a02fff47142c8.jpg\n",
            "IMG20230520105245-576x768_jpg.rf.ffcd61aee35d12a49a70f6937b1a58e1.jpg\n",
            "IMG20230520111521-576x768_jpg.rf.fe4b16ea96b0af22230c70a74faab421.jpg\n"
          ]
        }
      ]
    },
    {
      "cell_type": "code",
      "source": [
        "# Path ke folder 'karat'\n",
        "output_dir = '/content/drive/MyDrive/dataset/daunkopi/bercak'\n",
        "\n",
        "# Cek apakah folder 'karat' ada dan tampilkan isinya\n",
        "if os.path.exists(output_dir):\n",
        "    files = os.listdir(output_dir)\n",
        "    print(f\"Folder 'bercak' telah dibuat dan berisi {len(files)} file:\")\n",
        "    for file in files:\n",
        "        print(file)\n",
        "else:\n",
        "    print(\"Folder 'karat' tidak ditemukan.\")"
      ],
      "metadata": {
        "colab": {
          "base_uri": "https://localhost:8080/"
        },
        "id": "JGetqewJu2vO",
        "outputId": "2e235c2f-14b4-4a01-afd1-c29262894e83"
      },
      "execution_count": null,
      "outputs": [
        {
          "output_type": "stream",
          "name": "stdout",
          "text": [
            "Folder 'bercak' telah dibuat dan berisi 98 file:\n",
            "IMG_20221126_110005-576x768_jpg.rf.002df0f0ed7257563aed1d72c621c27b.jpg\n",
            "IMG_20221126_110944-434x768_jpg.rf.028765aaaa6f6d28897de3abbb54825d.jpg\n",
            "IMG_20221126_112317-432x768_jpg.rf.121adcfa5ae4853322bca03f2b4f9d98.jpg\n",
            "IMG_20221126_112233-1365x768_jpg.rf.0be717d9bfe2082b0ec292cb16c5b96c.jpg\n",
            "bercak-243-576x768_jpg.rf.0251d7b2e0ce17854064c65df0563885.jpg\n",
            "IMG_20221126_112000-576x768_jpg.rf.06d71b9a5489a48472fdfc812b1b8276.jpg\n",
            "IMG20221126111930-576x768_jpg.rf.0a4a0f52b09c2a7041bc355e9da312be.jpg\n",
            "bercak-142-576x768_jpg.rf.1327582897fdde543d88bc99f438395c.jpg\n",
            "IMG_2154-576x768_JPG.rf.10bff72dcfab2169f6b5aac34e86b5d3.jpg\n",
            "IMG_20221126_115831-576x768_jpg.rf.0f4a3490491d3a331d6f13cc3d0896d3.jpg\n",
            "bercak-35-576x768_jpg.rf.1489c93ceb59d052228d5b3d445a8ad8.jpg\n",
            "bercak-162-576x768_jpg.rf.07c8cd3f839962736a16c329ad0625a4.jpg\n",
            "IMG20221126121801-576x768_jpg.rf.1bfc1c0cccb59f8798b2503fdce37ed6.jpg\n",
            "IMG_20221126_120016-432x768_jpg.rf.1d502bc11654d96a0c64ed30fc499793.jpg\n",
            "IMG_20221126_111552-576x768_jpg.rf.2718d85d351e9077ae92bdfe5accad78.jpg\n",
            "IMG_20221126_110656-434x768_jpg.rf.34e877579ead9be638956201a018f3ca.jpg\n",
            "IMG_20221126_112249-576x768_jpg.rf.34671fb45b9442938a86087173019a5b.jpg\n",
            "bercak-252-576x768_jpg.rf.34b82e03926923fe377cbe058becae3c.jpg\n",
            "IMG_20221126_110914-1022x768_jpg.rf.34e90dda3ac198f24b13f8c32b34fa28.jpg\n",
            "IMG_2229-576x768_JPG.rf.38a36ff3442196efbcd060408d422550.jpg\n",
            "IMG_20221126_115022-1365x768_jpg.rf.38cfbf28b4b00bee58d92901e3f16008.jpg\n",
            "IMG20221126121442-1024x768_jpg.rf.389935c379532505b22fc69e7f36d3a7.jpg\n",
            "bercak-203-576x768_jpg.rf.39e913c6983c7eb03b6f0ff47b166f28.jpg\n",
            "IMG_20221126_115409-432x768_jpg.rf.3d9887f8544c167fb1f7dcac51b8d333.jpg\n",
            "IMG_20221126_121901-432x768_jpg.rf.3c8246839e5827c67b575fa0eb4c7bb1.jpg\n",
            "IMG_20221126_120151-576x768_jpg.rf.4129be5180ddd6c05cf8ade8ea72368f.jpg\n",
            "IMG_20221126_120820-576x768_jpg.rf.46ca6ab31476703f6f0badfa5c545a3b.jpg\n",
            "IMG_20221126_110747-432x768_jpg.rf.426b17c79d51cee15b415d0271cb7061.jpg\n",
            "IMG_20221126_120616-432x768_jpg.rf.410f12e90c91b4e0092421dd305acf0e.jpg\n",
            "bercak-86-1022x768_jpg.rf.49160cda026d3334a1bbbaff12c2c7a1.jpg\n",
            "bercak-161-576x768_jpg.rf.4ec1f5d24a3f04944a163d1f4736042c.jpg\n",
            "IMG_20221126_121926-432x768_jpg.rf.4be0e5752f54f5626b6b85688b1a1652.jpg\n",
            "IMG_20221126_110004-432x768_jpg.rf.59f8542b4ece61cf5e3a34a3ed47e716.jpg\n",
            "IMG_20221126_112913-434x768_jpg.rf.5618c51fce456bbec3e24e97a996456f.jpg\n",
            "IMG_20221126_120326-1365x768_jpg.rf.53924f28fba358c7e718dfc4beb9091e.jpg\n",
            "IMG_20221126_110549-1365x768_jpg.rf.596ac04753324c2e8de43ca5f569d6cf.jpg\n",
            "IMG_2303-576x768_JPG.rf.59649b7d5301e6e92821860ddf6dd4e4.jpg\n",
            "IMG_20221126_105431-432x768_jpg.rf.63854e5b49422b312fd40511f1f5f79b.jpg\n",
            "IMG_20221126_121924-434x768_jpg.rf.7abb4a143a04df9134d0887496bdae20.jpg\n",
            "IMG_20221126_121002-1365x768_jpg.rf.68ab1fdb58e886ff53ced083578eb7a8.jpg\n",
            "IMG_20221126_121317-576x768_jpg.rf.7accd6895469cdb0f94b728a9cd485cd.jpg\n",
            "IMG_2157-576x768_JPG.rf.65003b1d38ed6a19df1d366d6442c052.jpg\n",
            "IMG_20221126_115608-1022x768_jpg.rf.81944e385892fad1c3aa0d1aeeba3c3e.jpg\n",
            "IMG_2120-576x768_JPG.rf.87f8a702cb12423bc784b2699e44a618.jpg\n",
            "bercak-330-576x768_jpg.rf.82f918eb72d289adca82f76fcece98a2.jpg\n",
            "IMG_20221126_112228-1365x768_jpg.rf.8878705e1aaaf09b0d93763146898933.jpg\n",
            "IMG20221126111323-1024x768_jpg.rf.9423a19b7196ca3c5968386331187bc4.jpg\n",
            "IMG_20221126_115939-432x768_jpg.rf.97faeb70c3d48f2f70fb6344a7ef404e.jpg\n",
            "IMG_20221126_121750-576x768_jpg.rf.9aaa2b16cc8ca9dcad7b72d729b41c49.jpg\n",
            "bercak-187-576x768_jpg.rf.a130f7722f66cf56e748dbae602cde79.jpg\n",
            "bercak-225-1022x768_jpg.rf.99239d14739bb06e044789fa622be54d.jpg\n",
            "IMG_20221126_121931-1358x768_jpg.rf.a2243c0fd454df67c025f650b9822b1a.jpg\n",
            "IMG_20221126_121335-1365x768_jpg.rf.a4b3c98620b0a756b2e39bd12a083587.jpg\n",
            "IMG_20221126_112440-432x768_jpg.rf.a2e1d68e8ac7d19eae40d41663cd39d5.jpg\n",
            "IMG_20221126_111850-576x768_jpg.rf.9fe43d771e3d0ae1d72d81bdef08d71b.jpg\n",
            "IMG_20221126_122032-576x768_jpg.rf.a54e12faa7832923b46e0b98493633b8.jpg\n",
            "IMG_20221126_121528-1022x768_jpg.rf.9a3edf909dbf6cea795f2fa02c1533a6.jpg\n",
            "bercak-180-576x768_jpg.rf.ac97f51124e088a3c7f82576a5c784e0.jpg\n",
            "IMG_20221126_105550-432x768_jpg.rf.ab364fc68ce7f37ff654b74a1ac3c565.jpg\n",
            "IMG_20221126_114853-432x768_jpg.rf.a94864b0fb6be73edc276fbde21c9824.jpg\n",
            "IMG20221126112112-1-576x768_jpg.rf.ad3ff410ddee357a97de953bcfe2a28d.jpg\n",
            "bercak-285-576x768_jpg.rf.af45d4bc5e46114e2c9bf6861ea5e7c2.jpg\n",
            "IMG_20221126_111531-576x768_jpg.rf.b35312fa25206ebc11d37e7db2b7541a.jpg\n",
            "IMG_20221126_115327-576x768_jpg.rf.b279985765b06369a7aa23b194918742.jpg\n",
            "IMG_20221126_113052-434x768_jpg.rf.b4b600448350ede9020683dd2c1fffc6.jpg\n",
            "IMG20221126121502-1024x768_jpg.rf.afe646306c1afb161c1a2744e6a77e7f.jpg\n",
            "IMG_2197-576x768_JPG.rf.b80b8ae6d9405b3f77131cf4b70205b8.jpg\n",
            "IMG_20221126_111643-576x768_jpg.rf.b81dfaa648fd2d865c9d4de696f108b7.jpg\n",
            "IMG_20221126_110046-432x768_jpg.rf.b8c1939cccdefe678fc42c145946156c.jpg\n",
            "IMG_20221126_105946-576x768_jpg.rf.c16a456adca25b463b736a0e88d7fa47.jpg\n",
            "IMG_20221126_111712-576x768_jpg.rf.be40b08b38b0166aacdba0e6ac67797a.jpg\n",
            "IMG_20221126_113649-576x768_jpg.rf.c9887173b6f92881f9d28df5d8542f2f.jpg\n",
            "IMG_20221126_115751-1365x768_jpg.rf.c5f5343c5be098490a79e88c28eea7ed.jpg\n",
            "IMG_20221126_111859-576x768_jpg.rf.cc7b0a47abac7f6c6597319e7ff4f0e5.jpg\n",
            "IMG_20221126_105636-576x768_jpg.rf.d3e45cf2542d33114e9acdc6386d7cde.jpg\n",
            "IMG_20221126_112459-1365x768_jpg.rf.d2fc89450d4e3973fbf6a1483cf8023b.jpg\n",
            "bercak-186-576x768_jpg.rf.cb082d5811eada85f47796f35e1cc521.jpg\n",
            "IMG_20221126_112906-432x768_jpg.rf.d95c8c3eee9ea9814503c65768eefdce.jpg\n",
            "bercak-236-576x768_jpg.rf.d6a0edbe92a9cf51a478b04f497ac9a8.jpg\n",
            "bercak-42-576x768_jpg.rf.de99ddebc0458eb93c17fbc40981fa75.jpg\n",
            "IMG_20221126_105823-576x768_jpg.rf.e2064d58522d1207c1a6cff1ef52cf9a.jpg\n",
            "IMG_20221126_113251-434x768_jpg.rf.e03240c4557f8511e9d0fa4a79477d27.jpg\n",
            "IMG_20221126_113710-576x768_jpg.rf.def2dc387fe86b2396a14334f78a4c88.jpg\n",
            "IMG_20221126_105804-432x768_jpg.rf.e5c1ed3b744ce83f0425f4671a8f3773.jpg\n",
            "bercak-238-576x768_jpg.rf.e4bbfdee0d41c1b3afc39e0fd0491af2.jpg\n",
            "bercak-312-576x768_jpg.rf.e9fcfbdcd4a74db1317a8580299672f3.jpg\n",
            "bercak-63-576x768_jpg.rf.ea603f52fcaac25d7a8d9c649b64676e.jpg\n",
            "IMG20221126121637-576x768_jpg.rf.f046a2c7db7fc77faeee4e8377a0d80c.jpg\n",
            "bercak-304-1022x768_jpg.rf.f6436a0c4506f12161ad7464c5e8e069.jpg\n",
            "IMG_20221126_121938-434x768_jpg.rf.f0261620d41691467c5bb856525054a6.jpg\n",
            "bercak-246-576x768_jpg.rf.f555d1eb14211fec41165422e74f0e14.jpg\n",
            "IMG_20221126_121950-1358x768_jpg.rf.f4a4947954c4d8be8d717231ba32245e.jpg\n",
            "IMG_20221126_112125-1022x768_jpg.rf.f137babcb3d0850b26921b17a1744f77.jpg\n",
            "bercak-214-576x768_jpg.rf.f845665fef9dcc4b5977f733a71048b9.jpg\n",
            "IMG_20221126_113724-576x768_jpg.rf.fa5f848e2422b66386b80209a354ff9a.jpg\n",
            "IMG_2288-1024x768_JPG.rf.fd46d66efa99fcbe68c25c52fb56922b.jpg\n",
            "bercak-93-576x768_jpg.rf.fdd5b86403de323578d3e8e60320b834.jpg\n",
            "bercak-295-1022x768_jpg.rf.ffe5a234fd96bbc3a393a54370961a92.jpg\n"
          ]
        }
      ]
    },
    {
      "cell_type": "code",
      "source": [
        "import pandas as pd\n",
        "\n",
        "# Path ke file annotations.csv di Google Drive\n",
        "csv_path = '/content/drive/MyDrive/dataset/daunkopi/test/_annotations.csv'\n",
        "_annotations = pd.read_csv(csv_path)\n",
        "\n",
        "# Tampilkan beberapa baris pertama dari file CSV untuk memeriksa nama kolom\n",
        "print(_annotations.head())\n"
      ],
      "metadata": {
        "colab": {
          "base_uri": "https://localhost:8080/"
        },
        "id": "5yh6QKTwju-E",
        "outputId": "34ec18d3-0438-4d4c-e089-69bbd28c1fa9"
      },
      "execution_count": null,
      "outputs": [
        {
          "output_type": "stream",
          "name": "stdout",
          "text": [
            "                                            filename  width  height  \\\n",
            "0  IMG_2207-576x768_JPG.rf.03139f9e3677fc6f60bea4...    640     640   \n",
            "1  IMG_20230320_111105-432x768_jpg.rf.059e45114cc...    640     640   \n",
            "2  IMG_20230520_101544-1365x768_jpg.rf.12bd917888...    640     640   \n",
            "3  IMG_20221126_110005-576x768_jpg.rf.002df0f0ed7...    640     640   \n",
            "4  IMG20230520104338-576x768_jpg.rf.11aa1b845d955...    640     640   \n",
            "\n",
            "         class  xmin  ymin  xmax  ymax  \n",
            "0   Daun Sehat   180    32   553   580  \n",
            "1   Daun Sehat    62    48   548   622  \n",
            "2   Daun Karat    69    72   613   613  \n",
            "3  Daun Bercak   169    89   542   619  \n",
            "4   Daun Karat    82     0   484   578  \n"
          ]
        }
      ]
    },
    {
      "cell_type": "code",
      "source": [
        "# Mengfilter label daun sehat di folder train\n",
        "\n",
        "csv_path = '/content/drive/MyDrive/dataset/daunkopi/train/_annotations.csv'\n",
        "annotations = pd.read_csv(csv_path)\n",
        "\n",
        "# Tampilkan beberapa baris pertama dari file CSV untuk memeriksa nama kolom\n",
        "print(annotations.head())\n",
        "\n",
        "# Asumsikan kolom untuk label adalah 'class' dan kolom untuk nama file adalah 'filename'\n",
        "label_column = 'class'\n",
        "filename_column = 'filename'\n",
        "\n",
        "daun_sehat_files = annotations[annotations[label_column].str.contains(\"Daun Sehat\", case=False, na=False)][filename_column].tolist()\n"
      ],
      "metadata": {
        "colab": {
          "base_uri": "https://localhost:8080/"
        },
        "id": "_m8HE_1HgIoV",
        "outputId": "4ba416e9-42c2-422c-ef18-c9e68f902bd1"
      },
      "execution_count": null,
      "outputs": [
        {
          "output_type": "stream",
          "name": "stdout",
          "text": [
            "                                            filename  width  height  \\\n",
            "0  IMG_20230320_112945-432x768_jpg.rf.0b18a69452d...    640     640   \n",
            "1  IMG_20230520_105204-432x768_jpg.rf.0c67fbae9c3...    640     640   \n",
            "2  IMG_20230520_111429-432x768_jpg.rf.0bd277161a2...    640     640   \n",
            "3  IMG_20230520_110805-1365x768_jpg.rf.09ef22fb20...    640     640   \n",
            "4  IMG_20230520_101657-432x768_jpg.rf.08d265e95b4...    640     640   \n",
            "\n",
            "        class  xmin  ymin  xmax  ymax  \n",
            "0  Daun Sehat    51    40   528   605  \n",
            "1  Daun Karat    68   102   608   567  \n",
            "2  Daun Karat   101   140   548   588  \n",
            "3  Daun Karat    63    72   561   603  \n",
            "4  Daun Karat   127    37   581   568  \n"
          ]
        }
      ]
    },
    {
      "cell_type": "code",
      "source": [],
      "metadata": {
        "id": "OUXdzspzgKLJ"
      },
      "execution_count": null,
      "outputs": []
    }
  ]
}